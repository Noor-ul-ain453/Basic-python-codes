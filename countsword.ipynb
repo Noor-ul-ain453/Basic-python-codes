{
 "cells": [
  {
   "cell_type": "code",
   "execution_count": 37,
   "id": "f59ae2a1-dc87-40f1-810f-cc90443e47b0",
   "metadata": {},
   "outputs": [
    {
     "name": "stdin",
     "output_type": "stream",
     "text": [
      "Enter file name: my.txt\n"
     ]
    },
    {
     "name": "stdout",
     "output_type": "stream",
     "text": [
      "the 14\n"
     ]
    }
   ],
   "source": [
    "name = input('Enter file name:')\n",
    "handle = open(name) \n",
    "counts= dict()\n",
    "for line in handle:\n",
    "    words = line.split()\n",
    "    for word in words:\n",
    "      counts[word] = counts.get(word , 0) + 1 \n",
    "bigcount = None\n",
    "bigword = None \n",
    "for word,count in counts.items():\n",
    "    if bigcount is None or count > bigcount:\n",
    "        bigword = word\n",
    "        bigcount = count\n",
    "print(bigword ,bigcount)       \n",
    "    \n",
    "\n"
   ]
  },
  {
   "cell_type": "code",
   "execution_count": null,
   "id": "7d4d4837-af5a-4e5f-abb1-ad3316bca7ae",
   "metadata": {},
   "outputs": [],
   "source": []
  }
 ],
 "metadata": {
  "kernelspec": {
   "display_name": "Python 3 (ipykernel)",
   "language": "python",
   "name": "python3"
  },
  "language_info": {
   "codemirror_mode": {
    "name": "ipython",
    "version": 3
   },
   "file_extension": ".py",
   "mimetype": "text/x-python",
   "name": "python",
   "nbconvert_exporter": "python",
   "pygments_lexer": "ipython3",
   "version": "3.12.4"
  }
 },
 "nbformat": 4,
 "nbformat_minor": 5
}
